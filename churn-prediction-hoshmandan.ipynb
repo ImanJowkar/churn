{
 "cells": [
  {
   "cell_type": "code",
   "execution_count": 1,
   "id": "32969cfd",
   "metadata": {
    "_cell_guid": "b1076dfc-b9ad-4769-8c92-a6c4dae69d19",
    "_uuid": "8f2839f25d086af736a60e9eeb907d3b93b6e0e5",
    "execution": {
     "iopub.execute_input": "2021-07-10T12:38:08.928412Z",
     "iopub.status.busy": "2021-07-10T12:38:08.927555Z",
     "iopub.status.idle": "2021-07-10T12:38:09.889554Z",
     "shell.execute_reply": "2021-07-10T12:38:09.888659Z",
     "shell.execute_reply.started": "2021-07-10T12:27:15.265460Z"
    },
    "papermill": {
     "duration": 1.029297,
     "end_time": "2021-07-10T12:38:09.889761",
     "exception": false,
     "start_time": "2021-07-10T12:38:08.860464",
     "status": "completed"
    },
    "tags": []
   },
   "outputs": [],
   "source": [
    "import numpy as np \n",
    "import pandas as pd \n",
    "import matplotlib.pyplot as plt\n",
    "from sklearn.metrics import confusion_matrix, classification_report, average_precision_score, recall_score, precision_score, accuracy_score, f1_score, jaccard_score, plot_precision_recall_curve, plot_roc_curve\n",
    "\n",
    "\n",
    "\n",
    "\n"
   ]
  },
  {
   "cell_type": "code",
   "execution_count": 2,
   "id": "a9b310ed",
   "metadata": {
    "execution": {
     "iopub.execute_input": "2021-07-10T12:38:09.962358Z",
     "iopub.status.busy": "2021-07-10T12:38:09.961716Z",
     "iopub.status.idle": "2021-07-10T12:38:10.016751Z",
     "shell.execute_reply": "2021-07-10T12:38:10.016219Z",
     "shell.execute_reply.started": "2021-07-10T12:27:15.273369Z"
    },
    "papermill": {
     "duration": 0.092613,
     "end_time": "2021-07-10T12:38:10.016894",
     "exception": false,
     "start_time": "2021-07-10T12:38:09.924281",
     "status": "completed"
    },
    "tags": []
   },
   "outputs": [
    {
     "data": {
      "text/html": [
       "<div>\n",
       "<style scoped>\n",
       "    .dataframe tbody tr th:only-of-type {\n",
       "        vertical-align: middle;\n",
       "    }\n",
       "\n",
       "    .dataframe tbody tr th {\n",
       "        vertical-align: top;\n",
       "    }\n",
       "\n",
       "    .dataframe thead th {\n",
       "        text-align: right;\n",
       "    }\n",
       "</style>\n",
       "<table border=\"1\" class=\"dataframe\">\n",
       "  <thead>\n",
       "    <tr style=\"text-align: right;\">\n",
       "      <th></th>\n",
       "      <th>x1</th>\n",
       "      <th>x2</th>\n",
       "      <th>x3</th>\n",
       "      <th>x4</th>\n",
       "      <th>x5</th>\n",
       "      <th>x6</th>\n",
       "      <th>x7</th>\n",
       "      <th>churn</th>\n",
       "    </tr>\n",
       "  </thead>\n",
       "  <tbody>\n",
       "    <tr>\n",
       "      <th>0</th>\n",
       "      <td>99</td>\n",
       "      <td>0</td>\n",
       "      <td>45.465291</td>\n",
       "      <td>16.358769</td>\n",
       "      <td>12.239092</td>\n",
       "      <td>2.440626</td>\n",
       "      <td>2</td>\n",
       "      <td>1</td>\n",
       "    </tr>\n",
       "    <tr>\n",
       "      <th>1</th>\n",
       "      <td>99</td>\n",
       "      <td>0</td>\n",
       "      <td>37.810000</td>\n",
       "      <td>15.790000</td>\n",
       "      <td>10.700000</td>\n",
       "      <td>3.240000</td>\n",
       "      <td>2</td>\n",
       "      <td>0</td>\n",
       "    </tr>\n",
       "    <tr>\n",
       "      <th>2</th>\n",
       "      <td>124</td>\n",
       "      <td>0</td>\n",
       "      <td>20.459244</td>\n",
       "      <td>13.607872</td>\n",
       "      <td>8.761792</td>\n",
       "      <td>2.756800</td>\n",
       "      <td>2</td>\n",
       "      <td>1</td>\n",
       "    </tr>\n",
       "    <tr>\n",
       "      <th>3</th>\n",
       "      <td>86</td>\n",
       "      <td>0</td>\n",
       "      <td>24.600787</td>\n",
       "      <td>14.907251</td>\n",
       "      <td>8.049048</td>\n",
       "      <td>2.478242</td>\n",
       "      <td>5</td>\n",
       "      <td>1</td>\n",
       "    </tr>\n",
       "    <tr>\n",
       "      <th>4</th>\n",
       "      <td>146</td>\n",
       "      <td>0</td>\n",
       "      <td>22.610000</td>\n",
       "      <td>22.340000</td>\n",
       "      <td>9.640000</td>\n",
       "      <td>3.020000</td>\n",
       "      <td>1</td>\n",
       "      <td>0</td>\n",
       "    </tr>\n",
       "  </tbody>\n",
       "</table>\n",
       "</div>"
      ],
      "text/plain": [
       "   x1   x2         x3         x4         x5        x6   x7   churn\n",
       "0   99    0  45.465291  16.358769  12.239092  2.440626    2      1\n",
       "1   99    0  37.810000  15.790000  10.700000  3.240000    2      0\n",
       "2  124    0  20.459244  13.607872   8.761792  2.756800    2      1\n",
       "3   86    0  24.600787  14.907251   8.049048  2.478242    5      1\n",
       "4  146    0  22.610000  22.340000   9.640000  3.020000    1      0"
      ]
     },
     "execution_count": 2,
     "metadata": {},
     "output_type": "execute_result"
    }
   ],
   "source": [
    "data = pd.read_csv('../input/churn-prediction/churn_.txt')\n",
    "data.head()"
   ]
  },
  {
   "cell_type": "code",
   "execution_count": 3,
   "id": "76901243",
   "metadata": {
    "execution": {
     "iopub.execute_input": "2021-07-10T12:38:10.090347Z",
     "iopub.status.busy": "2021-07-10T12:38:10.089496Z",
     "iopub.status.idle": "2021-07-10T12:38:10.093484Z",
     "shell.execute_reply": "2021-07-10T12:38:10.092998Z",
     "shell.execute_reply.started": "2021-07-10T12:27:15.314907Z"
    },
    "papermill": {
     "duration": 0.042499,
     "end_time": "2021-07-10T12:38:10.093637",
     "exception": false,
     "start_time": "2021-07-10T12:38:10.051138",
     "status": "completed"
    },
    "tags": []
   },
   "outputs": [
    {
     "data": {
      "text/plain": [
       "(7256, 8)"
      ]
     },
     "execution_count": 3,
     "metadata": {},
     "output_type": "execute_result"
    }
   ],
   "source": [
    "data.shape"
   ]
  },
  {
   "cell_type": "code",
   "execution_count": 4,
   "id": "9ef83e94",
   "metadata": {
    "execution": {
     "iopub.execute_input": "2021-07-10T12:38:10.168743Z",
     "iopub.status.busy": "2021-07-10T12:38:10.166062Z",
     "iopub.status.idle": "2021-07-10T12:38:10.173204Z",
     "shell.execute_reply": "2021-07-10T12:38:10.172535Z",
     "shell.execute_reply.started": "2021-07-10T12:27:15.322738Z"
    },
    "papermill": {
     "duration": 0.045625,
     "end_time": "2021-07-10T12:38:10.173341",
     "exception": false,
     "start_time": "2021-07-10T12:38:10.127716",
     "status": "completed"
    },
    "tags": []
   },
   "outputs": [
    {
     "data": {
      "text/plain": [
       "x1       0\n",
       "x2       0\n",
       "x3       0\n",
       "x4       0\n",
       "x5       0\n",
       "x6       0\n",
       "x7       0\n",
       "churn    0\n",
       "dtype: int64"
      ]
     },
     "execution_count": 4,
     "metadata": {},
     "output_type": "execute_result"
    }
   ],
   "source": [
    "data.isna().sum()"
   ]
  },
  {
   "cell_type": "code",
   "execution_count": 5,
   "id": "dfdaaccb",
   "metadata": {
    "execution": {
     "iopub.execute_input": "2021-07-10T12:38:10.249920Z",
     "iopub.status.busy": "2021-07-10T12:38:10.249232Z",
     "iopub.status.idle": "2021-07-10T12:38:10.266750Z",
     "shell.execute_reply": "2021-07-10T12:38:10.266185Z",
     "shell.execute_reply.started": "2021-07-10T12:27:15.346063Z"
    },
    "papermill": {
     "duration": 0.059042,
     "end_time": "2021-07-10T12:38:10.266888",
     "exception": false,
     "start_time": "2021-07-10T12:38:10.207846",
     "status": "completed"
    },
    "tags": []
   },
   "outputs": [
    {
     "name": "stdout",
     "output_type": "stream",
     "text": [
      "<class 'pandas.core.frame.DataFrame'>\n",
      "RangeIndex: 7256 entries, 0 to 7255\n",
      "Data columns (total 8 columns):\n",
      " #   Column  Non-Null Count  Dtype  \n",
      "---  ------  --------------  -----  \n",
      " 0   x1      7256 non-null   int64  \n",
      " 1   x2      7256 non-null   int64  \n",
      " 2   x3      7256 non-null   float64\n",
      " 3   x4      7256 non-null   float64\n",
      " 4   x5      7256 non-null   float64\n",
      " 5   x6      7256 non-null   float64\n",
      " 6   x7      7256 non-null   int64  \n",
      " 7   churn   7256 non-null   int64  \n",
      "dtypes: float64(4), int64(4)\n",
      "memory usage: 453.6 KB\n"
     ]
    }
   ],
   "source": [
    "data.info()"
   ]
  },
  {
   "cell_type": "code",
   "execution_count": 6,
   "id": "ba7e8a7a",
   "metadata": {
    "execution": {
     "iopub.execute_input": "2021-07-10T12:38:10.345831Z",
     "iopub.status.busy": "2021-07-10T12:38:10.345062Z",
     "iopub.status.idle": "2021-07-10T12:38:10.379644Z",
     "shell.execute_reply": "2021-07-10T12:38:10.380121Z",
     "shell.execute_reply.started": "2021-07-10T12:27:15.375069Z"
    },
    "papermill": {
     "duration": 0.078174,
     "end_time": "2021-07-10T12:38:10.380300",
     "exception": false,
     "start_time": "2021-07-10T12:38:10.302126",
     "status": "completed"
    },
    "tags": []
   },
   "outputs": [
    {
     "data": {
      "text/html": [
       "<div>\n",
       "<style scoped>\n",
       "    .dataframe tbody tr th:only-of-type {\n",
       "        vertical-align: middle;\n",
       "    }\n",
       "\n",
       "    .dataframe tbody tr th {\n",
       "        vertical-align: top;\n",
       "    }\n",
       "\n",
       "    .dataframe thead th {\n",
       "        text-align: right;\n",
       "    }\n",
       "</style>\n",
       "<table border=\"1\" class=\"dataframe\">\n",
       "  <thead>\n",
       "    <tr style=\"text-align: right;\">\n",
       "      <th></th>\n",
       "      <th>x1</th>\n",
       "      <th>x2</th>\n",
       "      <th>x3</th>\n",
       "      <th>x4</th>\n",
       "      <th>x5</th>\n",
       "      <th>x6</th>\n",
       "      <th>x7</th>\n",
       "      <th>churn</th>\n",
       "    </tr>\n",
       "  </thead>\n",
       "  <tbody>\n",
       "    <tr>\n",
       "      <th>count</th>\n",
       "      <td>7256.000000</td>\n",
       "      <td>7256.000000</td>\n",
       "      <td>7256.000000</td>\n",
       "      <td>7256.000000</td>\n",
       "      <td>7256.000000</td>\n",
       "      <td>7256.000000</td>\n",
       "      <td>7256.000000</td>\n",
       "      <td>7256.000000</td>\n",
       "    </tr>\n",
       "    <tr>\n",
       "      <th>mean</th>\n",
       "      <td>100.765711</td>\n",
       "      <td>6.313671</td>\n",
       "      <td>32.594787</td>\n",
       "      <td>17.488511</td>\n",
       "      <td>9.124380</td>\n",
       "      <td>2.816711</td>\n",
       "      <td>1.716235</td>\n",
       "      <td>0.490077</td>\n",
       "    </tr>\n",
       "    <tr>\n",
       "      <th>std</th>\n",
       "      <td>39.715150</td>\n",
       "      <td>12.587163</td>\n",
       "      <td>10.334061</td>\n",
       "      <td>4.187507</td>\n",
       "      <td>2.147614</td>\n",
       "      <td>0.698790</td>\n",
       "      <td>1.455270</td>\n",
       "      <td>0.499936</td>\n",
       "    </tr>\n",
       "    <tr>\n",
       "      <th>min</th>\n",
       "      <td>1.000000</td>\n",
       "      <td>0.000000</td>\n",
       "      <td>0.000000</td>\n",
       "      <td>0.000000</td>\n",
       "      <td>1.040000</td>\n",
       "      <td>0.000000</td>\n",
       "      <td>0.000000</td>\n",
       "      <td>0.000000</td>\n",
       "    </tr>\n",
       "    <tr>\n",
       "      <th>25%</th>\n",
       "      <td>74.000000</td>\n",
       "      <td>0.000000</td>\n",
       "      <td>24.960000</td>\n",
       "      <td>14.586988</td>\n",
       "      <td>7.688626</td>\n",
       "      <td>2.380000</td>\n",
       "      <td>1.000000</td>\n",
       "      <td>0.000000</td>\n",
       "    </tr>\n",
       "    <tr>\n",
       "      <th>50%</th>\n",
       "      <td>100.000000</td>\n",
       "      <td>0.000000</td>\n",
       "      <td>31.989410</td>\n",
       "      <td>17.547229</td>\n",
       "      <td>9.140000</td>\n",
       "      <td>2.830429</td>\n",
       "      <td>1.000000</td>\n",
       "      <td>0.000000</td>\n",
       "    </tr>\n",
       "    <tr>\n",
       "      <th>75%</th>\n",
       "      <td>126.000000</td>\n",
       "      <td>0.000000</td>\n",
       "      <td>40.511001</td>\n",
       "      <td>20.409678</td>\n",
       "      <td>10.570000</td>\n",
       "      <td>3.269711</td>\n",
       "      <td>3.000000</td>\n",
       "      <td>1.000000</td>\n",
       "    </tr>\n",
       "    <tr>\n",
       "      <th>max</th>\n",
       "      <td>243.000000</td>\n",
       "      <td>52.000000</td>\n",
       "      <td>59.760000</td>\n",
       "      <td>30.910000</td>\n",
       "      <td>17.770000</td>\n",
       "      <td>5.400000</td>\n",
       "      <td>9.000000</td>\n",
       "      <td>1.000000</td>\n",
       "    </tr>\n",
       "  </tbody>\n",
       "</table>\n",
       "</div>"
      ],
      "text/plain": [
       "               x1           x2           x3           x4           x5   \\\n",
       "count  7256.000000  7256.000000  7256.000000  7256.000000  7256.000000   \n",
       "mean    100.765711     6.313671    32.594787    17.488511     9.124380   \n",
       "std      39.715150    12.587163    10.334061     4.187507     2.147614   \n",
       "min       1.000000     0.000000     0.000000     0.000000     1.040000   \n",
       "25%      74.000000     0.000000    24.960000    14.586988     7.688626   \n",
       "50%     100.000000     0.000000    31.989410    17.547229     9.140000   \n",
       "75%     126.000000     0.000000    40.511001    20.409678    10.570000   \n",
       "max     243.000000    52.000000    59.760000    30.910000    17.770000   \n",
       "\n",
       "               x6           x7         churn  \n",
       "count  7256.000000  7256.000000  7256.000000  \n",
       "mean      2.816711     1.716235     0.490077  \n",
       "std       0.698790     1.455270     0.499936  \n",
       "min       0.000000     0.000000     0.000000  \n",
       "25%       2.380000     1.000000     0.000000  \n",
       "50%       2.830429     1.000000     0.000000  \n",
       "75%       3.269711     3.000000     1.000000  \n",
       "max       5.400000     9.000000     1.000000  "
      ]
     },
     "execution_count": 6,
     "metadata": {},
     "output_type": "execute_result"
    }
   ],
   "source": [
    "data.describe()"
   ]
  },
  {
   "cell_type": "markdown",
   "id": "1a687e36",
   "metadata": {
    "papermill": {
     "duration": 0.036541,
     "end_time": "2021-07-10T12:38:10.452658",
     "exception": false,
     "start_time": "2021-07-10T12:38:10.416117",
     "status": "completed"
    },
    "tags": []
   },
   "source": [
    "## Data Splitting"
   ]
  },
  {
   "cell_type": "code",
   "execution_count": 7,
   "id": "ea5af2cc",
   "metadata": {
    "execution": {
     "iopub.execute_input": "2021-07-10T12:38:10.526523Z",
     "iopub.status.busy": "2021-07-10T12:38:10.525851Z",
     "iopub.status.idle": "2021-07-10T12:38:10.553684Z",
     "shell.execute_reply": "2021-07-10T12:38:10.553087Z",
     "shell.execute_reply.started": "2021-07-10T12:27:15.422374Z"
    },
    "papermill": {
     "duration": 0.065826,
     "end_time": "2021-07-10T12:38:10.553837",
     "exception": false,
     "start_time": "2021-07-10T12:38:10.488011",
     "status": "completed"
    },
    "tags": []
   },
   "outputs": [
    {
     "name": "stdout",
     "output_type": "stream",
     "text": [
      "The shape of X_train is: (4353, 7)\n",
      "The shape of y_train is: (4353,)\n",
      "The shape of X_test is: (2903, 7)\n",
      "The shape of y_test is: (2903,)\n"
     ]
    }
   ],
   "source": [
    "from sklearn.model_selection import train_test_split\n",
    "\n",
    "X = data.iloc[:, :7]\n",
    "y = data.iloc[:, 7]\n",
    "\n",
    "X_train, X_test, y_train, y_test = train_test_split(X, y, test_size = 0.4, random_state = 1234)\n",
    "\n",
    "\n",
    "print(f'The shape of X_train is: {X_train.shape}')\n",
    "print(f'The shape of y_train is: {y_train.shape}')\n",
    "print(f'The shape of X_test is: {X_test.shape}')\n",
    "print(f'The shape of y_test is: {y_test.shape}')\n",
    "\n"
   ]
  },
  {
   "cell_type": "markdown",
   "id": "cd252fbb",
   "metadata": {
    "papermill": {
     "duration": 0.035065,
     "end_time": "2021-07-10T12:38:10.624447",
     "exception": false,
     "start_time": "2021-07-10T12:38:10.589382",
     "status": "completed"
    },
    "tags": []
   },
   "source": [
    "# Model1: LDA"
   ]
  },
  {
   "cell_type": "code",
   "execution_count": 8,
   "id": "3d9bf6cd",
   "metadata": {
    "execution": {
     "iopub.execute_input": "2021-07-10T12:38:10.701221Z",
     "iopub.status.busy": "2021-07-10T12:38:10.700468Z",
     "iopub.status.idle": "2021-07-10T12:38:10.988899Z",
     "shell.execute_reply": "2021-07-10T12:38:10.988221Z",
     "shell.execute_reply.started": "2021-07-10T12:27:15.438851Z"
    },
    "papermill": {
     "duration": 0.328803,
     "end_time": "2021-07-10T12:38:10.989240",
     "exception": false,
     "start_time": "2021-07-10T12:38:10.660437",
     "status": "completed"
    },
    "tags": []
   },
   "outputs": [
    {
     "data": {
      "text/plain": [
       "LinearDiscriminantAnalysis()"
      ]
     },
     "execution_count": 8,
     "metadata": {},
     "output_type": "execute_result"
    }
   ],
   "source": [
    "from sklearn.discriminant_analysis import LinearDiscriminantAnalysis\n",
    "\n",
    "model1 = LinearDiscriminantAnalysis()\n",
    "model1.fit(X_train, y_train)"
   ]
  },
  {
   "cell_type": "code",
   "execution_count": 9,
   "id": "ced12316",
   "metadata": {
    "execution": {
     "iopub.execute_input": "2021-07-10T12:38:11.077622Z",
     "iopub.status.busy": "2021-07-10T12:38:11.070363Z",
     "iopub.status.idle": "2021-07-10T12:38:11.091051Z",
     "shell.execute_reply": "2021-07-10T12:38:11.092082Z",
     "shell.execute_reply.started": "2021-07-10T12:27:15.465059Z"
    },
    "papermill": {
     "duration": 0.064177,
     "end_time": "2021-07-10T12:38:11.092377",
     "exception": false,
     "start_time": "2021-07-10T12:38:11.028200",
     "status": "completed"
    },
    "tags": []
   },
   "outputs": [
    {
     "data": {
      "text/plain": [
       "array([[1020,  435],\n",
       "       [ 428, 1020]])"
      ]
     },
     "execution_count": 9,
     "metadata": {},
     "output_type": "execute_result"
    }
   ],
   "source": [
    "y_pred_model1 = model1.predict(X_test)\n",
    "confusion_matrix_model1 = confusion_matrix(y_pred_model1, y_test)\n",
    "confusion_matrix_model1"
   ]
  },
  {
   "cell_type": "code",
   "execution_count": 10,
   "id": "4890fab2",
   "metadata": {
    "execution": {
     "iopub.execute_input": "2021-07-10T12:38:11.230024Z",
     "iopub.status.busy": "2021-07-10T12:38:11.228856Z",
     "iopub.status.idle": "2021-07-10T12:38:11.501462Z",
     "shell.execute_reply": "2021-07-10T12:38:11.502024Z",
     "shell.execute_reply.started": "2021-07-10T12:27:15.486242Z"
    },
    "papermill": {
     "duration": 0.338054,
     "end_time": "2021-07-10T12:38:11.502205",
     "exception": false,
     "start_time": "2021-07-10T12:38:11.164151",
     "status": "completed"
    },
    "tags": []
   },
   "outputs": [
    {
     "data": {
      "text/plain": [
       "Text(0.5, 1.0, 'Roc Curve')"
      ]
     },
     "execution_count": 10,
     "metadata": {},
     "output_type": "execute_result"
    },
    {
     "data": {
      "image/png": "[encoded data removed]",
      "text/plain": [
       "<Figure size 432x288 with 1 Axes>"
      ]
     },
     "metadata": {
      "needs_background": "light"
     },
     "output_type": "display_data"
    }
   ],
   "source": [
    "plot_roc_curve(model1, X_test, y_test)\n",
    "plt.title('Roc Curve')"
   ]
  },
  {
   "cell_type": "code",
   "execution_count": 11,
   "id": "13d441a0",
   "metadata": {
    "execution": {
     "iopub.execute_input": "2021-07-10T12:38:11.581813Z",
     "iopub.status.busy": "2021-07-10T12:38:11.581130Z",
     "iopub.status.idle": "2021-07-10T12:38:11.603669Z",
     "shell.execute_reply": "2021-07-10T12:38:11.604149Z",
     "shell.execute_reply.started": "2021-07-10T12:27:15.668237Z"
    },
    "papermill": {
     "duration": 0.063926,
     "end_time": "2021-07-10T12:38:11.604325",
     "exception": false,
     "start_time": "2021-07-10T12:38:11.540399",
     "status": "completed"
    },
    "tags": []
   },
   "outputs": [
    {
     "data": {
      "text/html": [
       "<div>\n",
       "<style scoped>\n",
       "    .dataframe tbody tr th:only-of-type {\n",
       "        vertical-align: middle;\n",
       "    }\n",
       "\n",
       "    .dataframe tbody tr th {\n",
       "        vertical-align: top;\n",
       "    }\n",
       "\n",
       "    .dataframe thead th {\n",
       "        text-align: right;\n",
       "    }\n",
       "</style>\n",
       "<table border=\"1\" class=\"dataframe\">\n",
       "  <thead>\n",
       "    <tr style=\"text-align: right;\">\n",
       "      <th></th>\n",
       "      <th>Accuracy</th>\n",
       "      <th>Percision</th>\n",
       "      <th>Recall</th>\n",
       "      <th>F1_score</th>\n",
       "      <th>Jaccard_score</th>\n",
       "    </tr>\n",
       "  </thead>\n",
       "  <tbody>\n",
       "    <tr>\n",
       "      <th>Model1: LDA</th>\n",
       "      <td>0.702721</td>\n",
       "      <td>0.70442</td>\n",
       "      <td>0.701031</td>\n",
       "      <td>0.702721</td>\n",
       "      <td>0.541689</td>\n",
       "    </tr>\n",
       "  </tbody>\n",
       "</table>\n",
       "</div>"
      ],
      "text/plain": [
       "             Accuracy  Percision    Recall  F1_score  Jaccard_score\n",
       "Model1: LDA  0.702721    0.70442  0.701031  0.702721       0.541689"
      ]
     },
     "execution_count": 11,
     "metadata": {},
     "output_type": "execute_result"
    }
   ],
   "source": [
    "from scipy.stats import iqr\n",
    "\n",
    "model_comp = pd.DataFrame({'Accuracy': accuracy_score(y_test, y_pred_model1), \n",
    "                           'Percision': precision_score(y_test, y_pred_model1), \n",
    "                           'Recall': recall_score(y_test, y_pred_model1), \n",
    "                           'F1_score': f1_score(y_test, y_pred_model1), \n",
    "                           'Jaccard_score': jaccard_score(y_test, y_pred_model1)}, index = ['Model1: LDA'])\n",
    "\n",
    "model_comp"
   ]
  },
  {
   "cell_type": "markdown",
   "id": "6cc66322",
   "metadata": {
    "papermill": {
     "duration": 0.038712,
     "end_time": "2021-07-10T12:38:11.681922",
     "exception": false,
     "start_time": "2021-07-10T12:38:11.643210",
     "status": "completed"
    },
    "tags": []
   },
   "source": [
    "## Model2: QDA"
   ]
  },
  {
   "cell_type": "code",
   "execution_count": 12,
   "id": "e573317e",
   "metadata": {
    "execution": {
     "iopub.execute_input": "2021-07-10T12:38:11.766160Z",
     "iopub.status.busy": "2021-07-10T12:38:11.765198Z",
     "iopub.status.idle": "2021-07-10T12:38:11.796704Z",
     "shell.execute_reply": "2021-07-10T12:38:11.797483Z",
     "shell.execute_reply.started": "2021-07-10T12:27:15.694433Z"
    },
    "papermill": {
     "duration": 0.07767,
     "end_time": "2021-07-10T12:38:11.797752",
     "exception": false,
     "start_time": "2021-07-10T12:38:11.720082",
     "status": "completed"
    },
    "tags": []
   },
   "outputs": [
    {
     "data": {
      "text/plain": [
       "array([[1075,  369],\n",
       "       [ 373, 1086]])"
      ]
     },
     "execution_count": 12,
     "metadata": {},
     "output_type": "execute_result"
    }
   ],
   "source": [
    "from sklearn.discriminant_analysis import QuadraticDiscriminantAnalysis\n",
    "model2 = QuadraticDiscriminantAnalysis()\n",
    "model2.fit(X_train, y_train)\n",
    "y_pred_model2 = model2.predict(X_test)\n",
    "confusion_matrix_model2 = confusion_matrix(y_pred_model2, y_test)\n",
    "confusion_matrix_model2\n",
    "\n"
   ]
  },
  {
   "cell_type": "code",
   "execution_count": 13,
   "id": "c15cd376",
   "metadata": {
    "execution": {
     "iopub.execute_input": "2021-07-10T12:38:11.884876Z",
     "iopub.status.busy": "2021-07-10T12:38:11.884185Z",
     "iopub.status.idle": "2021-07-10T12:38:12.089151Z",
     "shell.execute_reply": "2021-07-10T12:38:12.088540Z",
     "shell.execute_reply.started": "2021-07-10T12:27:15.718136Z"
    },
    "papermill": {
     "duration": 0.247008,
     "end_time": "2021-07-10T12:38:12.089291",
     "exception": false,
     "start_time": "2021-07-10T12:38:11.842283",
     "status": "completed"
    },
    "tags": []
   },
   "outputs": [
    {
     "data": {
      "text/plain": [
       "Text(0.5, 1.0, 'Roc Curve')"
      ]
     },
     "execution_count": 13,
     "metadata": {},
     "output_type": "execute_result"
    },
    {
     "data": {
      "image/png": "[encoded data removed]",
      "text/plain": [
       "<Figure size 432x288 with 1 Axes>"
      ]
     },
     "metadata": {
      "needs_background": "light"
     },
     "output_type": "display_data"
    }
   ],
   "source": [
    "plot_roc_curve(model2, X_test, y_test)\n",
    "plt.title('Roc Curve')"
   ]
  },
  {
   "cell_type": "code",
   "execution_count": 14,
   "id": "c0380cbd",
   "metadata": {
    "execution": {
     "iopub.execute_input": "2021-07-10T12:38:12.175172Z",
     "iopub.status.busy": "2021-07-10T12:38:12.174505Z",
     "iopub.status.idle": "2021-07-10T12:38:12.196763Z",
     "shell.execute_reply": "2021-07-10T12:38:12.196176Z",
     "shell.execute_reply.started": "2021-07-10T12:27:15.902341Z"
    },
    "papermill": {
     "duration": 0.068093,
     "end_time": "2021-07-10T12:38:12.196902",
     "exception": false,
     "start_time": "2021-07-10T12:38:12.128809",
     "status": "completed"
    },
    "tags": []
   },
   "outputs": [
    {
     "data": {
      "text/html": [
       "<div>\n",
       "<style scoped>\n",
       "    .dataframe tbody tr th:only-of-type {\n",
       "        vertical-align: middle;\n",
       "    }\n",
       "\n",
       "    .dataframe tbody tr th {\n",
       "        vertical-align: top;\n",
       "    }\n",
       "\n",
       "    .dataframe thead th {\n",
       "        text-align: right;\n",
       "    }\n",
       "</style>\n",
       "<table border=\"1\" class=\"dataframe\">\n",
       "  <thead>\n",
       "    <tr style=\"text-align: right;\">\n",
       "      <th></th>\n",
       "      <th>Accuracy</th>\n",
       "      <th>Percision</th>\n",
       "      <th>Recall</th>\n",
       "      <th>F1_score</th>\n",
       "      <th>Jaccard_score</th>\n",
       "    </tr>\n",
       "  </thead>\n",
       "  <tbody>\n",
       "    <tr>\n",
       "      <th>Model1: LDA</th>\n",
       "      <td>0.702721</td>\n",
       "      <td>0.704420</td>\n",
       "      <td>0.701031</td>\n",
       "      <td>0.702721</td>\n",
       "      <td>0.541689</td>\n",
       "    </tr>\n",
       "    <tr>\n",
       "      <th>Model2: QDA</th>\n",
       "      <td>0.744402</td>\n",
       "      <td>0.744345</td>\n",
       "      <td>0.746392</td>\n",
       "      <td>0.745367</td>\n",
       "      <td>0.594092</td>\n",
       "    </tr>\n",
       "  </tbody>\n",
       "</table>\n",
       "</div>"
      ],
      "text/plain": [
       "             Accuracy  Percision    Recall  F1_score  Jaccard_score\n",
       "Model1: LDA  0.702721   0.704420  0.701031  0.702721       0.541689\n",
       "Model2: QDA  0.744402   0.744345  0.746392  0.745367       0.594092"
      ]
     },
     "execution_count": 14,
     "metadata": {},
     "output_type": "execute_result"
    }
   ],
   "source": [
    "model_comp = model_comp.append(pd.DataFrame({'Accuracy': accuracy_score(y_test, y_pred_model2), \n",
    "                                             'Percision': precision_score(y_test, y_pred_model2), \n",
    "                                             'Recall': recall_score(y_test, y_pred_model2), \n",
    "                                             'F1_score': f1_score(y_test, y_pred_model2), \n",
    "                                             'Jaccard_score': jaccard_score(y_test, y_pred_model2)}, index = ['Model2: QDA']))\n",
    "model_comp"
   ]
  },
  {
   "cell_type": "markdown",
   "id": "39ca8d11",
   "metadata": {
    "papermill": {
     "duration": 0.039732,
     "end_time": "2021-07-10T12:38:12.277143",
     "exception": false,
     "start_time": "2021-07-10T12:38:12.237411",
     "status": "completed"
    },
    "tags": []
   },
   "source": [
    "## Model3: Naive Bayes"
   ]
  },
  {
   "cell_type": "code",
   "execution_count": 15,
   "id": "28d8ccbe",
   "metadata": {
    "execution": {
     "iopub.execute_input": "2021-07-10T12:38:12.361837Z",
     "iopub.status.busy": "2021-07-10T12:38:12.361184Z",
     "iopub.status.idle": "2021-07-10T12:38:12.379212Z",
     "shell.execute_reply": "2021-07-10T12:38:12.379752Z",
     "shell.execute_reply.started": "2021-07-10T12:27:15.929903Z"
    },
    "papermill": {
     "duration": 0.062807,
     "end_time": "2021-07-10T12:38:12.379934",
     "exception": false,
     "start_time": "2021-07-10T12:38:12.317127",
     "status": "completed"
    },
    "tags": []
   },
   "outputs": [
    {
     "data": {
      "text/plain": [
       "array([[1078,  370],\n",
       "       [ 426, 1029]])"
      ]
     },
     "execution_count": 15,
     "metadata": {},
     "output_type": "execute_result"
    }
   ],
   "source": [
    "from sklearn.naive_bayes import GaussianNB\n",
    "model3 = GaussianNB()\n",
    "model3.fit(X_train, y_train)\n",
    "y_pred_model3 = model3.predict(X_test)\n",
    "confucsion_matrix_model3 = confusion_matrix(y_test, y_pred_model3)\n",
    "confucsion_matrix_model3"
   ]
  },
  {
   "cell_type": "code",
   "execution_count": 16,
   "id": "adfcf432",
   "metadata": {
    "execution": {
     "iopub.execute_input": "2021-07-10T12:38:12.464215Z",
     "iopub.status.busy": "2021-07-10T12:38:12.463324Z",
     "iopub.status.idle": "2021-07-10T12:38:12.659322Z",
     "shell.execute_reply": "2021-07-10T12:38:12.659892Z",
     "shell.execute_reply.started": "2021-07-10T12:27:15.950468Z"
    },
    "papermill": {
     "duration": 0.239341,
     "end_time": "2021-07-10T12:38:12.660068",
     "exception": false,
     "start_time": "2021-07-10T12:38:12.420727",
     "status": "completed"
    },
    "tags": []
   },
   "outputs": [
    {
     "data": {
      "text/plain": [
       "Text(0.5, 1.0, 'Roc Curve')"
      ]
     },
     "execution_count": 16,
     "metadata": {},
     "output_type": "execute_result"
    },
    {
     "data": {
      "image/png": "[encoded data removed]",
      "text/plain": [
       "<Figure size 432x288 with 1 Axes>"
      ]
     },
     "metadata": {
      "needs_background": "light"
     },
     "output_type": "display_data"
    }
   ],
   "source": [
    "plot_roc_curve(model3, X_test, y_test)\n",
    "plt.title('Roc Curve')"
   ]
  },
  {
   "cell_type": "code",
   "execution_count": 17,
   "id": "17cadfc1",
   "metadata": {
    "execution": {
     "iopub.execute_input": "2021-07-10T12:38:12.745850Z",
     "iopub.status.busy": "2021-07-10T12:38:12.745161Z",
     "iopub.status.idle": "2021-07-10T12:38:12.769987Z",
     "shell.execute_reply": "2021-07-10T12:38:12.770519Z",
     "shell.execute_reply.started": "2021-07-10T12:27:16.106949Z"
    },
    "papermill": {
     "duration": 0.069281,
     "end_time": "2021-07-10T12:38:12.770713",
     "exception": false,
     "start_time": "2021-07-10T12:38:12.701432",
     "status": "completed"
    },
    "tags": []
   },
   "outputs": [
    {
     "data": {
      "text/html": [
       "<div>\n",
       "<style scoped>\n",
       "    .dataframe tbody tr th:only-of-type {\n",
       "        vertical-align: middle;\n",
       "    }\n",
       "\n",
       "    .dataframe tbody tr th {\n",
       "        vertical-align: top;\n",
       "    }\n",
       "\n",
       "    .dataframe thead th {\n",
       "        text-align: right;\n",
       "    }\n",
       "</style>\n",
       "<table border=\"1\" class=\"dataframe\">\n",
       "  <thead>\n",
       "    <tr style=\"text-align: right;\">\n",
       "      <th></th>\n",
       "      <th>Accuracy</th>\n",
       "      <th>Percision</th>\n",
       "      <th>Recall</th>\n",
       "      <th>F1_score</th>\n",
       "      <th>Jaccard_score</th>\n",
       "    </tr>\n",
       "  </thead>\n",
       "  <tbody>\n",
       "    <tr>\n",
       "      <th>Model1: LDA</th>\n",
       "      <td>0.702721</td>\n",
       "      <td>0.704420</td>\n",
       "      <td>0.701031</td>\n",
       "      <td>0.702721</td>\n",
       "      <td>0.541689</td>\n",
       "    </tr>\n",
       "    <tr>\n",
       "      <th>Model2: QDA</th>\n",
       "      <td>0.744402</td>\n",
       "      <td>0.744345</td>\n",
       "      <td>0.746392</td>\n",
       "      <td>0.745367</td>\n",
       "      <td>0.594092</td>\n",
       "    </tr>\n",
       "    <tr>\n",
       "      <th>Model2: Naive Bayes</th>\n",
       "      <td>0.725801</td>\n",
       "      <td>0.735525</td>\n",
       "      <td>0.707216</td>\n",
       "      <td>0.721093</td>\n",
       "      <td>0.563836</td>\n",
       "    </tr>\n",
       "  </tbody>\n",
       "</table>\n",
       "</div>"
      ],
      "text/plain": [
       "                     Accuracy  Percision    Recall  F1_score  Jaccard_score\n",
       "Model1: LDA          0.702721   0.704420  0.701031  0.702721       0.541689\n",
       "Model2: QDA          0.744402   0.744345  0.746392  0.745367       0.594092\n",
       "Model2: Naive Bayes  0.725801   0.735525  0.707216  0.721093       0.563836"
      ]
     },
     "execution_count": 17,
     "metadata": {},
     "output_type": "execute_result"
    }
   ],
   "source": [
    "model_comp = model_comp.append(pd.DataFrame({'Accuracy': accuracy_score(y_test, y_pred_model3), \n",
    "                                             'Percision': precision_score(y_test, y_pred_model3), \n",
    "                                             'Recall': recall_score(y_test, y_pred_model3), \n",
    "                                             'F1_score': f1_score(y_test, y_pred_model3), \n",
    "                                             'Jaccard_score': jaccard_score(y_test, y_pred_model3)}, index = ['Model2: Naive Bayes']))\n",
    "model_comp"
   ]
  },
  {
   "cell_type": "markdown",
   "id": "c68cf869",
   "metadata": {
    "papermill": {
     "duration": 0.043037,
     "end_time": "2021-07-10T12:38:12.855685",
     "exception": false,
     "start_time": "2021-07-10T12:38:12.812648",
     "status": "completed"
    },
    "tags": []
   },
   "source": [
    "## Model4: Logistic Regression"
   ]
  },
  {
   "cell_type": "code",
   "execution_count": 18,
   "id": "4d9a3b74",
   "metadata": {
    "execution": {
     "iopub.execute_input": "2021-07-10T12:38:12.942695Z",
     "iopub.status.busy": "2021-07-10T12:38:12.942042Z",
     "iopub.status.idle": "2021-07-10T12:38:13.091661Z",
     "shell.execute_reply": "2021-07-10T12:38:13.092608Z",
     "shell.execute_reply.started": "2021-07-10T12:27:16.136786Z"
    },
    "papermill": {
     "duration": 0.195035,
     "end_time": "2021-07-10T12:38:13.092882",
     "exception": false,
     "start_time": "2021-07-10T12:38:12.897847",
     "status": "completed"
    },
    "tags": []
   },
   "outputs": [
    {
     "data": {
      "text/plain": [
       "array([[1024,  424],\n",
       "       [ 438, 1017]])"
      ]
     },
     "execution_count": 18,
     "metadata": {},
     "output_type": "execute_result"
    }
   ],
   "source": [
    "from sklearn.linear_model import LogisticRegression\n",
    "model4 = LogisticRegression()\n",
    "model4.fit(X_train, y_train)\n",
    "y_pred_model4 = model4.predict(X_test)\n",
    "confusion_matrix_model4 = confusion_matrix(y_test, y_pred_model4)\n",
    "confusion_matrix_model4"
   ]
  },
  {
   "cell_type": "code",
   "execution_count": 19,
   "id": "f5e18df1",
   "metadata": {
    "execution": {
     "iopub.execute_input": "2021-07-10T12:38:13.250196Z",
     "iopub.status.busy": "2021-07-10T12:38:13.249043Z",
     "iopub.status.idle": "2021-07-10T12:38:13.504653Z",
     "shell.execute_reply": "2021-07-10T12:38:13.504047Z",
     "shell.execute_reply.started": "2021-07-10T12:27:16.237956Z"
    },
    "papermill": {
     "duration": 0.333486,
     "end_time": "2021-07-10T12:38:13.504818",
     "exception": false,
     "start_time": "2021-07-10T12:38:13.171332",
     "status": "completed"
    },
    "tags": []
   },
   "outputs": [
    {
     "data": {
      "text/plain": [
       "Text(0.5, 1.0, 'Roc Curve')"
      ]
     },
     "execution_count": 19,
     "metadata": {},
     "output_type": "execute_result"
    },
    {
     "data": {
      "image/png": "[encoded data removed]",
      "text/plain": [
       "<Figure size 432x288 with 1 Axes>"
      ]
     },
     "metadata": {
      "needs_background": "light"
     },
     "output_type": "display_data"
    }
   ],
   "source": [
    "plot_roc_curve(model4, X_test, y_test)\n",
    "plt.title('Roc Curve')"
   ]
  },
  {
   "cell_type": "code",
   "execution_count": 20,
   "id": "0215ded6",
   "metadata": {
    "execution": {
     "iopub.execute_input": "2021-07-10T12:38:13.600148Z",
     "iopub.status.busy": "2021-07-10T12:38:13.599395Z",
     "iopub.status.idle": "2021-07-10T12:38:13.624537Z",
     "shell.execute_reply": "2021-07-10T12:38:13.623997Z",
     "shell.execute_reply.started": "2021-07-10T12:27:16.416158Z"
    },
    "papermill": {
     "duration": 0.074782,
     "end_time": "2021-07-10T12:38:13.624701",
     "exception": false,
     "start_time": "2021-07-10T12:38:13.549919",
     "status": "completed"
    },
    "tags": []
   },
   "outputs": [
    {
     "data": {
      "text/html": [
       "<div>\n",
       "<style scoped>\n",
       "    .dataframe tbody tr th:only-of-type {\n",
       "        vertical-align: middle;\n",
       "    }\n",
       "\n",
       "    .dataframe tbody tr th {\n",
       "        vertical-align: top;\n",
       "    }\n",
       "\n",
       "    .dataframe thead th {\n",
       "        text-align: right;\n",
       "    }\n",
       "</style>\n",
       "<table border=\"1\" class=\"dataframe\">\n",
       "  <thead>\n",
       "    <tr style=\"text-align: right;\">\n",
       "      <th></th>\n",
       "      <th>Accuracy</th>\n",
       "      <th>Percision</th>\n",
       "      <th>Recall</th>\n",
       "      <th>F1_score</th>\n",
       "      <th>Jaccard_score</th>\n",
       "    </tr>\n",
       "  </thead>\n",
       "  <tbody>\n",
       "    <tr>\n",
       "      <th>Model1: LDA</th>\n",
       "      <td>0.702721</td>\n",
       "      <td>0.704420</td>\n",
       "      <td>0.701031</td>\n",
       "      <td>0.702721</td>\n",
       "      <td>0.541689</td>\n",
       "    </tr>\n",
       "    <tr>\n",
       "      <th>Model2: QDA</th>\n",
       "      <td>0.744402</td>\n",
       "      <td>0.744345</td>\n",
       "      <td>0.746392</td>\n",
       "      <td>0.745367</td>\n",
       "      <td>0.594092</td>\n",
       "    </tr>\n",
       "    <tr>\n",
       "      <th>Model2: Naive Bayes</th>\n",
       "      <td>0.725801</td>\n",
       "      <td>0.735525</td>\n",
       "      <td>0.707216</td>\n",
       "      <td>0.721093</td>\n",
       "      <td>0.563836</td>\n",
       "    </tr>\n",
       "    <tr>\n",
       "      <th>Model4: Logistic Regression</th>\n",
       "      <td>0.703066</td>\n",
       "      <td>0.705760</td>\n",
       "      <td>0.698969</td>\n",
       "      <td>0.702348</td>\n",
       "      <td>0.541245</td>\n",
       "    </tr>\n",
       "  </tbody>\n",
       "</table>\n",
       "</div>"
      ],
      "text/plain": [
       "                             Accuracy  Percision    Recall  F1_score  \\\n",
       "Model1: LDA                  0.702721   0.704420  0.701031  0.702721   \n",
       "Model2: QDA                  0.744402   0.744345  0.746392  0.745367   \n",
       "Model2: Naive Bayes          0.725801   0.735525  0.707216  0.721093   \n",
       "Model4: Logistic Regression  0.703066   0.705760  0.698969  0.702348   \n",
       "\n",
       "                             Jaccard_score  \n",
       "Model1: LDA                       0.541689  \n",
       "Model2: QDA                       0.594092  \n",
       "Model2: Naive Bayes               0.563836  \n",
       "Model4: Logistic Regression       0.541245  "
      ]
     },
     "execution_count": 20,
     "metadata": {},
     "output_type": "execute_result"
    }
   ],
   "source": [
    "model_comp = model_comp.append(pd.DataFrame({'Accuracy': accuracy_score(y_test, y_pred_model4), \n",
    "                                             'Percision': precision_score(y_test, y_pred_model4), \n",
    "                                             'Recall': recall_score(y_test, y_pred_model4), \n",
    "                                             'F1_score': f1_score(y_test, y_pred_model4), \n",
    "                                             'Jaccard_score': jaccard_score(y_test, y_pred_model4)}, index = ['Model4: Logistic Regression']))\n",
    "model_comp"
   ]
  },
  {
   "cell_type": "markdown",
   "id": "3968fea4",
   "metadata": {
    "papermill": {
     "duration": 0.044072,
     "end_time": "2021-07-10T12:38:13.712673",
     "exception": false,
     "start_time": "2021-07-10T12:38:13.668601",
     "status": "completed"
    },
    "tags": []
   },
   "source": [
    "## Model5: KNN"
   ]
  },
  {
   "cell_type": "code",
   "execution_count": 21,
   "id": "a4963254",
   "metadata": {
    "execution": {
     "iopub.execute_input": "2021-07-10T12:38:13.803171Z",
     "iopub.status.busy": "2021-07-10T12:38:13.802511Z",
     "iopub.status.idle": "2021-07-10T12:38:14.019230Z",
     "shell.execute_reply": "2021-07-10T12:38:14.018281Z",
     "shell.execute_reply.started": "2021-07-10T12:27:16.436932Z"
    },
    "papermill": {
     "duration": 0.263174,
     "end_time": "2021-07-10T12:38:14.019382",
     "exception": false,
     "start_time": "2021-07-10T12:38:13.756208",
     "status": "completed"
    },
    "tags": []
   },
   "outputs": [
    {
     "data": {
      "text/plain": [
       "array([[1296,  152],\n",
       "       [ 177, 1278]])"
      ]
     },
     "execution_count": 21,
     "metadata": {},
     "output_type": "execute_result"
    }
   ],
   "source": [
    "from sklearn.neighbors import KNeighborsClassifier\n",
    "model5 = KNeighborsClassifier(n_neighbors = 2, metric = 'minkowski', p = 2)\n",
    "model5.fit(X_train, y_train)\n",
    "y_pred_model5 = model5.predict(X_test)\n",
    "confusion_matrix_model5 = confusion_matrix(y_test, y_pred_model5)\n",
    "confusion_matrix_model5"
   ]
  },
  {
   "cell_type": "code",
   "execution_count": 22,
   "id": "1fd40bfc",
   "metadata": {
    "execution": {
     "iopub.execute_input": "2021-07-10T12:38:14.116714Z",
     "iopub.status.busy": "2021-07-10T12:38:14.116026Z",
     "iopub.status.idle": "2021-07-10T12:38:14.332281Z",
     "shell.execute_reply": "2021-07-10T12:38:14.331700Z",
     "shell.execute_reply.started": "2021-07-10T12:27:16.590543Z"
    },
    "papermill": {
     "duration": 0.26833,
     "end_time": "2021-07-10T12:38:14.332423",
     "exception": false,
     "start_time": "2021-07-10T12:38:14.064093",
     "status": "completed"
    },
    "tags": []
   },
   "outputs": [
    {
     "data": {
      "text/plain": [
       "Text(0.5, 1.0, 'Roc Curve')"
      ]
     },
     "execution_count": 22,
     "metadata": {},
     "output_type": "execute_result"
    },
    {
     "data": {
      "image/png": "[encoded data removed]",
      "text/plain": [
       "<Figure size 432x288 with 1 Axes>"
      ]
     },
     "metadata": {
      "needs_background": "light"
     },
     "output_type": "display_data"
    }
   ],
   "source": [
    "plot_roc_curve(model5, X_test, y_test)\n",
    "plt.title('Roc Curve')"
   ]
  },
  {
   "cell_type": "code",
   "execution_count": 23,
   "id": "876fdd3a",
   "metadata": {
    "execution": {
     "iopub.execute_input": "2021-07-10T12:38:14.430617Z",
     "iopub.status.busy": "2021-07-10T12:38:14.429917Z",
     "iopub.status.idle": "2021-07-10T12:38:14.454316Z",
     "shell.execute_reply": "2021-07-10T12:38:14.453670Z",
     "shell.execute_reply.started": "2021-07-10T12:27:16.793390Z"
    },
    "papermill": {
     "duration": 0.076288,
     "end_time": "2021-07-10T12:38:14.454467",
     "exception": false,
     "start_time": "2021-07-10T12:38:14.378179",
     "status": "completed"
    },
    "tags": []
   },
   "outputs": [
    {
     "data": {
      "text/html": [
       "<div>\n",
       "<style scoped>\n",
       "    .dataframe tbody tr th:only-of-type {\n",
       "        vertical-align: middle;\n",
       "    }\n",
       "\n",
       "    .dataframe tbody tr th {\n",
       "        vertical-align: top;\n",
       "    }\n",
       "\n",
       "    .dataframe thead th {\n",
       "        text-align: right;\n",
       "    }\n",
       "</style>\n",
       "<table border=\"1\" class=\"dataframe\">\n",
       "  <thead>\n",
       "    <tr style=\"text-align: right;\">\n",
       "      <th></th>\n",
       "      <th>Accuracy</th>\n",
       "      <th>Percision</th>\n",
       "      <th>Recall</th>\n",
       "      <th>F1_score</th>\n",
       "      <th>Jaccard_score</th>\n",
       "    </tr>\n",
       "  </thead>\n",
       "  <tbody>\n",
       "    <tr>\n",
       "      <th>Model1: LDA</th>\n",
       "      <td>0.702721</td>\n",
       "      <td>0.704420</td>\n",
       "      <td>0.701031</td>\n",
       "      <td>0.702721</td>\n",
       "      <td>0.541689</td>\n",
       "    </tr>\n",
       "    <tr>\n",
       "      <th>Model2: QDA</th>\n",
       "      <td>0.744402</td>\n",
       "      <td>0.744345</td>\n",
       "      <td>0.746392</td>\n",
       "      <td>0.745367</td>\n",
       "      <td>0.594092</td>\n",
       "    </tr>\n",
       "    <tr>\n",
       "      <th>Model2: Naive Bayes</th>\n",
       "      <td>0.725801</td>\n",
       "      <td>0.735525</td>\n",
       "      <td>0.707216</td>\n",
       "      <td>0.721093</td>\n",
       "      <td>0.563836</td>\n",
       "    </tr>\n",
       "    <tr>\n",
       "      <th>Model4: Logistic Regression</th>\n",
       "      <td>0.703066</td>\n",
       "      <td>0.705760</td>\n",
       "      <td>0.698969</td>\n",
       "      <td>0.702348</td>\n",
       "      <td>0.541245</td>\n",
       "    </tr>\n",
       "    <tr>\n",
       "      <th>Model5: KNN Classifier</th>\n",
       "      <td>0.886669</td>\n",
       "      <td>0.893706</td>\n",
       "      <td>0.878351</td>\n",
       "      <td>0.885962</td>\n",
       "      <td>0.795271</td>\n",
       "    </tr>\n",
       "  </tbody>\n",
       "</table>\n",
       "</div>"
      ],
      "text/plain": [
       "                             Accuracy  Percision    Recall  F1_score  \\\n",
       "Model1: LDA                  0.702721   0.704420  0.701031  0.702721   \n",
       "Model2: QDA                  0.744402   0.744345  0.746392  0.745367   \n",
       "Model2: Naive Bayes          0.725801   0.735525  0.707216  0.721093   \n",
       "Model4: Logistic Regression  0.703066   0.705760  0.698969  0.702348   \n",
       "Model5: KNN Classifier       0.886669   0.893706  0.878351  0.885962   \n",
       "\n",
       "                             Jaccard_score  \n",
       "Model1: LDA                       0.541689  \n",
       "Model2: QDA                       0.594092  \n",
       "Model2: Naive Bayes               0.563836  \n",
       "Model4: Logistic Regression       0.541245  \n",
       "Model5: KNN Classifier            0.795271  "
      ]
     },
     "execution_count": 23,
     "metadata": {},
     "output_type": "execute_result"
    }
   ],
   "source": [
    "model_comp = model_comp.append(pd.DataFrame({'Accuracy': accuracy_score(y_test, y_pred_model5), \n",
    "                                             'Percision': precision_score(y_test, y_pred_model5), \n",
    "                                             'Recall': recall_score(y_test, y_pred_model5), \n",
    "                                             'F1_score': f1_score(y_test, y_pred_model5), \n",
    "                                             'Jaccard_score': jaccard_score(y_test, y_pred_model5)}, index = ['Model5: KNN Classifier']))\n",
    "model_comp"
   ]
  },
  {
   "cell_type": "markdown",
   "id": "dc0379a9",
   "metadata": {
    "papermill": {
     "duration": 0.046959,
     "end_time": "2021-07-10T12:38:14.547638",
     "exception": false,
     "start_time": "2021-07-10T12:38:14.500679",
     "status": "completed"
    },
    "tags": []
   },
   "source": [
    "## Model6: Decisoin Tree"
   ]
  },
  {
   "cell_type": "code",
   "execution_count": 24,
   "id": "432de9b8",
   "metadata": {
    "execution": {
     "iopub.execute_input": "2021-07-10T12:38:14.647279Z",
     "iopub.status.busy": "2021-07-10T12:38:14.646338Z",
     "iopub.status.idle": "2021-07-10T12:38:14.650750Z",
     "shell.execute_reply": "2021-07-10T12:38:14.650227Z",
     "shell.execute_reply.started": "2021-07-10T12:27:16.823022Z"
    },
    "papermill": {
     "duration": 0.056647,
     "end_time": "2021-07-10T12:38:14.650891",
     "exception": false,
     "start_time": "2021-07-10T12:38:14.594244",
     "status": "completed"
    },
    "tags": []
   },
   "outputs": [
    {
     "data": {
      "text/plain": [
       "{'min_samples_leaf': 2,\n",
       " 'max_features': 6,\n",
       " 'max_depth': 7,\n",
       " 'criterion': 'entropy'}"
      ]
     },
     "execution_count": 24,
     "metadata": {},
     "output_type": "execute_result"
    }
   ],
   "source": [
    "{'min_samples_leaf': 2,\n",
    " 'max_features': 6,\n",
    " 'max_depth': 7,\n",
    " 'criterion': 'entropy'}"
   ]
  },
  {
   "cell_type": "code",
   "execution_count": 25,
   "id": "f7bb2098",
   "metadata": {
    "execution": {
     "iopub.execute_input": "2021-07-10T12:38:14.749355Z",
     "iopub.status.busy": "2021-07-10T12:38:14.748649Z",
     "iopub.status.idle": "2021-07-10T12:38:14.919723Z",
     "shell.execute_reply": "2021-07-10T12:38:14.920233Z",
     "shell.execute_reply.started": "2021-07-10T12:27:16.832203Z"
    },
    "papermill": {
     "duration": 0.222905,
     "end_time": "2021-07-10T12:38:14.920412",
     "exception": false,
     "start_time": "2021-07-10T12:38:14.697507",
     "status": "completed"
    },
    "tags": []
   },
   "outputs": [
    {
     "data": {
      "text/plain": [
       "array([[1332,  507],\n",
       "       [ 116,  948]])"
      ]
     },
     "execution_count": 25,
     "metadata": {},
     "output_type": "execute_result"
    }
   ],
   "source": [
    "from sklearn.tree import DecisionTreeClassifier\n",
    "model6 = DecisionTreeClassifier(max_depth = 7, \n",
    "                                max_features = 6,\n",
    "                                criterion = 'entropy', \n",
    "                                min_samples_leaf = 2)\n",
    "model6.fit(X_train, y_train)\n",
    "y_pred_model6 = model6.predict(X_test)\n",
    "confusion_matrix_model6 = confusion_matrix(y_pred_model6, y_test)\n",
    "confusion_matrix_model6"
   ]
  },
  {
   "cell_type": "code",
   "execution_count": 26,
   "id": "34f89235",
   "metadata": {
    "execution": {
     "iopub.execute_input": "2021-07-10T12:38:15.020717Z",
     "iopub.status.busy": "2021-07-10T12:38:15.020030Z",
     "iopub.status.idle": "2021-07-10T12:38:15.212721Z",
     "shell.execute_reply": "2021-07-10T12:38:15.212145Z",
     "shell.execute_reply.started": "2021-07-10T12:27:16.892601Z"
    },
    "papermill": {
     "duration": 0.245409,
     "end_time": "2021-07-10T12:38:15.212875",
     "exception": false,
     "start_time": "2021-07-10T12:38:14.967466",
     "status": "completed"
    },
    "tags": []
   },
   "outputs": [
    {
     "data": {
      "text/plain": [
       "Text(0.5, 1.0, 'Roc Curve')"
      ]
     },
     "execution_count": 26,
     "metadata": {},
     "output_type": "execute_result"
    },
    {
     "data": {
      "image/png": "[encoded data removed]",
      "text/plain": [
       "<Figure size 432x288 with 1 Axes>"
      ]
     },
     "metadata": {
      "needs_background": "light"
     },
     "output_type": "display_data"
    }
   ],
   "source": [
    "plot_roc_curve(model6, X_test, y_test)\n",
    "plt.title('Roc Curve')"
   ]
  },
  {
   "cell_type": "code",
   "execution_count": 27,
   "id": "23e66dc2",
   "metadata": {
    "execution": {
     "iopub.execute_input": "2021-07-10T12:38:15.319638Z",
     "iopub.status.busy": "2021-07-10T12:38:15.318615Z",
     "iopub.status.idle": "2021-07-10T12:38:16.077018Z",
     "shell.execute_reply": "2021-07-10T12:38:16.076417Z",
     "shell.execute_reply.started": "2021-07-10T12:27:17.100232Z"
    },
    "papermill": {
     "duration": 0.815554,
     "end_time": "2021-07-10T12:38:16.077157",
     "exception": false,
     "start_time": "2021-07-10T12:38:15.261603",
     "status": "completed"
    },
    "tags": []
   },
   "outputs": [
    {
     "data": {
      "text/plain": [
       "{'min_samples_leaf': 3,\n",
       " 'max_features': 7,\n",
       " 'max_depth': 9,\n",
       " 'criterion': 'entropy'}"
      ]
     },
     "execution_count": 27,
     "metadata": {},
     "output_type": "execute_result"
    }
   ],
   "source": [
    "from scipy.stats import randint\n",
    "from sklearn.model_selection import RandomizedSearchCV\n",
    "\n",
    "param_dist = {'max_depth': [3, 4, 5, 6, 7, 8, 9,2], \n",
    "              'max_features': [2, 3, 4, 5, 6, 7], \n",
    "              'min_samples_leaf': [2, 3, 4, 5, 6, 7, 8], \n",
    "              'criterion': ['gini', 'entropy']}\n",
    "\n",
    "tree_cv = RandomizedSearchCV(model6, param_dist, cv = 5)\n",
    "\n",
    "tree_cv.fit(X_train, y_train)\n",
    "tree_cv.best_params_"
   ]
  },
  {
   "cell_type": "code",
   "execution_count": 28,
   "id": "78fb846b",
   "metadata": {
    "execution": {
     "iopub.execute_input": "2021-07-10T12:38:16.180846Z",
     "iopub.status.busy": "2021-07-10T12:38:16.179828Z",
     "iopub.status.idle": "2021-07-10T12:38:16.204187Z",
     "shell.execute_reply": "2021-07-10T12:38:16.203651Z",
     "shell.execute_reply.started": "2021-07-10T12:27:17.868289Z"
    },
    "papermill": {
     "duration": 0.078417,
     "end_time": "2021-07-10T12:38:16.204330",
     "exception": false,
     "start_time": "2021-07-10T12:38:16.125913",
     "status": "completed"
    },
    "tags": []
   },
   "outputs": [
    {
     "data": {
      "text/html": [
       "<div>\n",
       "<style scoped>\n",
       "    .dataframe tbody tr th:only-of-type {\n",
       "        vertical-align: middle;\n",
       "    }\n",
       "\n",
       "    .dataframe tbody tr th {\n",
       "        vertical-align: top;\n",
       "    }\n",
       "\n",
       "    .dataframe thead th {\n",
       "        text-align: right;\n",
       "    }\n",
       "</style>\n",
       "<table border=\"1\" class=\"dataframe\">\n",
       "  <thead>\n",
       "    <tr style=\"text-align: right;\">\n",
       "      <th></th>\n",
       "      <th>Accuracy</th>\n",
       "      <th>Percision</th>\n",
       "      <th>Recall</th>\n",
       "      <th>F1_score</th>\n",
       "      <th>Jaccard_score</th>\n",
       "    </tr>\n",
       "  </thead>\n",
       "  <tbody>\n",
       "    <tr>\n",
       "      <th>Model1: LDA</th>\n",
       "      <td>0.702721</td>\n",
       "      <td>0.704420</td>\n",
       "      <td>0.701031</td>\n",
       "      <td>0.702721</td>\n",
       "      <td>0.541689</td>\n",
       "    </tr>\n",
       "    <tr>\n",
       "      <th>Model2: QDA</th>\n",
       "      <td>0.744402</td>\n",
       "      <td>0.744345</td>\n",
       "      <td>0.746392</td>\n",
       "      <td>0.745367</td>\n",
       "      <td>0.594092</td>\n",
       "    </tr>\n",
       "    <tr>\n",
       "      <th>Model2: Naive Bayes</th>\n",
       "      <td>0.725801</td>\n",
       "      <td>0.735525</td>\n",
       "      <td>0.707216</td>\n",
       "      <td>0.721093</td>\n",
       "      <td>0.563836</td>\n",
       "    </tr>\n",
       "    <tr>\n",
       "      <th>Model4: Logistic Regression</th>\n",
       "      <td>0.703066</td>\n",
       "      <td>0.705760</td>\n",
       "      <td>0.698969</td>\n",
       "      <td>0.702348</td>\n",
       "      <td>0.541245</td>\n",
       "    </tr>\n",
       "    <tr>\n",
       "      <th>Model5: KNN Classifier</th>\n",
       "      <td>0.886669</td>\n",
       "      <td>0.893706</td>\n",
       "      <td>0.878351</td>\n",
       "      <td>0.885962</td>\n",
       "      <td>0.795271</td>\n",
       "    </tr>\n",
       "    <tr>\n",
       "      <th>Model6: Decision Tree Classifier</th>\n",
       "      <td>0.785394</td>\n",
       "      <td>0.890977</td>\n",
       "      <td>0.651546</td>\n",
       "      <td>0.752680</td>\n",
       "      <td>0.603437</td>\n",
       "    </tr>\n",
       "  </tbody>\n",
       "</table>\n",
       "</div>"
      ],
      "text/plain": [
       "                                  Accuracy  Percision    Recall  F1_score  \\\n",
       "Model1: LDA                       0.702721   0.704420  0.701031  0.702721   \n",
       "Model2: QDA                       0.744402   0.744345  0.746392  0.745367   \n",
       "Model2: Naive Bayes               0.725801   0.735525  0.707216  0.721093   \n",
       "Model4: Logistic Regression       0.703066   0.705760  0.698969  0.702348   \n",
       "Model5: KNN Classifier            0.886669   0.893706  0.878351  0.885962   \n",
       "Model6: Decision Tree Classifier  0.785394   0.890977  0.651546  0.752680   \n",
       "\n",
       "                                  Jaccard_score  \n",
       "Model1: LDA                            0.541689  \n",
       "Model2: QDA                            0.594092  \n",
       "Model2: Naive Bayes                    0.563836  \n",
       "Model4: Logistic Regression            0.541245  \n",
       "Model5: KNN Classifier                 0.795271  \n",
       "Model6: Decision Tree Classifier       0.603437  "
      ]
     },
     "execution_count": 28,
     "metadata": {},
     "output_type": "execute_result"
    }
   ],
   "source": [
    "model_comp = model_comp.append(pd.DataFrame({'Accuracy': accuracy_score(y_test, y_pred_model6), \n",
    "                                             'Percision': precision_score(y_test, y_pred_model6), \n",
    "                                             'Recall': recall_score(y_test, y_pred_model6), \n",
    "                                             'F1_score': f1_score(y_test, y_pred_model6), \n",
    "                                             'Jaccard_score': jaccard_score(y_test, y_pred_model6)}, index = ['Model6: Decision Tree Classifier']))\n",
    "model_comp"
   ]
  },
  {
   "cell_type": "markdown",
   "id": "e6f37c33",
   "metadata": {
    "papermill": {
     "duration": 0.048659,
     "end_time": "2021-07-10T12:38:16.302021",
     "exception": false,
     "start_time": "2021-07-10T12:38:16.253362",
     "status": "completed"
    },
    "tags": []
   },
   "source": [
    "## Model 7: Bagging"
   ]
  },
  {
   "cell_type": "code",
   "execution_count": 29,
   "id": "3f372151",
   "metadata": {
    "execution": {
     "iopub.execute_input": "2021-07-10T12:38:16.404789Z",
     "iopub.status.busy": "2021-07-10T12:38:16.404119Z",
     "iopub.status.idle": "2021-07-10T12:38:16.646476Z",
     "shell.execute_reply": "2021-07-10T12:38:16.647211Z",
     "shell.execute_reply.started": "2021-07-10T12:31:14.917707Z"
    },
    "papermill": {
     "duration": 0.296519,
     "end_time": "2021-07-10T12:38:16.647441",
     "exception": false,
     "start_time": "2021-07-10T12:38:16.350922",
     "status": "completed"
    },
    "tags": []
   },
   "outputs": [
    {
     "data": {
      "text/plain": [
       "array([[1362,  307],\n",
       "       [  86, 1148]])"
      ]
     },
     "execution_count": 29,
     "metadata": {},
     "output_type": "execute_result"
    }
   ],
   "source": [
    "from sklearn.ensemble import BaggingClassifier\n",
    "\n",
    "model7 = BaggingClassifier()\n",
    "model7.fit(X_train, y_train)\n",
    "y_pred_model7 = model7.predict(X_test)\n",
    "confusion_matrix_model7 = confusion_matrix(y_pred_model7, y_test)\n",
    "confusion_matrix_model7"
   ]
  },
  {
   "cell_type": "code",
   "execution_count": 30,
   "id": "e81f464f",
   "metadata": {
    "execution": {
     "iopub.execute_input": "2021-07-10T12:38:16.754255Z",
     "iopub.status.busy": "2021-07-10T12:38:16.753124Z",
     "iopub.status.idle": "2021-07-10T12:38:16.960497Z",
     "shell.execute_reply": "2021-07-10T12:38:16.959789Z",
     "shell.execute_reply.started": "2021-07-10T12:31:32.530464Z"
    },
    "papermill": {
     "duration": 0.263195,
     "end_time": "2021-07-10T12:38:16.960662",
     "exception": false,
     "start_time": "2021-07-10T12:38:16.697467",
     "status": "completed"
    },
    "tags": []
   },
   "outputs": [
    {
     "data": {
      "text/plain": [
       "Text(0.5, 1.0, 'Roc Curve')"
      ]
     },
     "execution_count": 30,
     "metadata": {},
     "output_type": "execute_result"
    },
    {
     "data": {
      "image/png": "[encoded data removed]",
      "text/plain": [
       "<Figure size 432x288 with 1 Axes>"
      ]
     },
     "metadata": {
      "needs_background": "light"
     },
     "output_type": "display_data"
    }
   ],
   "source": [
    "plot_roc_curve(model7, X_test, y_test)\n",
    "plt.title('Roc Curve')"
   ]
  },
  {
   "cell_type": "code",
   "execution_count": 31,
   "id": "e5639c86",
   "metadata": {
    "execution": {
     "iopub.execute_input": "2021-07-10T12:38:17.069222Z",
     "iopub.status.busy": "2021-07-10T12:38:17.068179Z",
     "iopub.status.idle": "2021-07-10T12:38:17.092100Z",
     "shell.execute_reply": "2021-07-10T12:38:17.092627Z",
     "shell.execute_reply.started": "2021-07-10T12:32:27.168290Z"
    },
    "papermill": {
     "duration": 0.081186,
     "end_time": "2021-07-10T12:38:17.092816",
     "exception": false,
     "start_time": "2021-07-10T12:38:17.011630",
     "status": "completed"
    },
    "tags": []
   },
   "outputs": [
    {
     "data": {
      "text/html": [
       "<div>\n",
       "<style scoped>\n",
       "    .dataframe tbody tr th:only-of-type {\n",
       "        vertical-align: middle;\n",
       "    }\n",
       "\n",
       "    .dataframe tbody tr th {\n",
       "        vertical-align: top;\n",
       "    }\n",
       "\n",
       "    .dataframe thead th {\n",
       "        text-align: right;\n",
       "    }\n",
       "</style>\n",
       "<table border=\"1\" class=\"dataframe\">\n",
       "  <thead>\n",
       "    <tr style=\"text-align: right;\">\n",
       "      <th></th>\n",
       "      <th>Accuracy</th>\n",
       "      <th>Percision</th>\n",
       "      <th>Recall</th>\n",
       "      <th>F1_score</th>\n",
       "      <th>Jaccard_score</th>\n",
       "    </tr>\n",
       "  </thead>\n",
       "  <tbody>\n",
       "    <tr>\n",
       "      <th>Model1: LDA</th>\n",
       "      <td>0.702721</td>\n",
       "      <td>0.704420</td>\n",
       "      <td>0.701031</td>\n",
       "      <td>0.702721</td>\n",
       "      <td>0.541689</td>\n",
       "    </tr>\n",
       "    <tr>\n",
       "      <th>Model2: QDA</th>\n",
       "      <td>0.744402</td>\n",
       "      <td>0.744345</td>\n",
       "      <td>0.746392</td>\n",
       "      <td>0.745367</td>\n",
       "      <td>0.594092</td>\n",
       "    </tr>\n",
       "    <tr>\n",
       "      <th>Model2: Naive Bayes</th>\n",
       "      <td>0.725801</td>\n",
       "      <td>0.735525</td>\n",
       "      <td>0.707216</td>\n",
       "      <td>0.721093</td>\n",
       "      <td>0.563836</td>\n",
       "    </tr>\n",
       "    <tr>\n",
       "      <th>Model4: Logistic Regression</th>\n",
       "      <td>0.703066</td>\n",
       "      <td>0.705760</td>\n",
       "      <td>0.698969</td>\n",
       "      <td>0.702348</td>\n",
       "      <td>0.541245</td>\n",
       "    </tr>\n",
       "    <tr>\n",
       "      <th>Model5: KNN Classifier</th>\n",
       "      <td>0.886669</td>\n",
       "      <td>0.893706</td>\n",
       "      <td>0.878351</td>\n",
       "      <td>0.885962</td>\n",
       "      <td>0.795271</td>\n",
       "    </tr>\n",
       "    <tr>\n",
       "      <th>Model6: Decision Tree Classifier</th>\n",
       "      <td>0.785394</td>\n",
       "      <td>0.890977</td>\n",
       "      <td>0.651546</td>\n",
       "      <td>0.752680</td>\n",
       "      <td>0.603437</td>\n",
       "    </tr>\n",
       "    <tr>\n",
       "      <th>Model7: Bagging Classifier</th>\n",
       "      <td>0.864623</td>\n",
       "      <td>0.930308</td>\n",
       "      <td>0.789003</td>\n",
       "      <td>0.853849</td>\n",
       "      <td>0.744971</td>\n",
       "    </tr>\n",
       "  </tbody>\n",
       "</table>\n",
       "</div>"
      ],
      "text/plain": [
       "                                  Accuracy  Percision    Recall  F1_score  \\\n",
       "Model1: LDA                       0.702721   0.704420  0.701031  0.702721   \n",
       "Model2: QDA                       0.744402   0.744345  0.746392  0.745367   \n",
       "Model2: Naive Bayes               0.725801   0.735525  0.707216  0.721093   \n",
       "Model4: Logistic Regression       0.703066   0.705760  0.698969  0.702348   \n",
       "Model5: KNN Classifier            0.886669   0.893706  0.878351  0.885962   \n",
       "Model6: Decision Tree Classifier  0.785394   0.890977  0.651546  0.752680   \n",
       "Model7: Bagging Classifier        0.864623   0.930308  0.789003  0.853849   \n",
       "\n",
       "                                  Jaccard_score  \n",
       "Model1: LDA                            0.541689  \n",
       "Model2: QDA                            0.594092  \n",
       "Model2: Naive Bayes                    0.563836  \n",
       "Model4: Logistic Regression            0.541245  \n",
       "Model5: KNN Classifier                 0.795271  \n",
       "Model6: Decision Tree Classifier       0.603437  \n",
       "Model7: Bagging Classifier             0.744971  "
      ]
     },
     "execution_count": 31,
     "metadata": {},
     "output_type": "execute_result"
    }
   ],
   "source": [
    "model_comp = model_comp.append(pd.DataFrame({'Accuracy': accuracy_score(y_test, y_pred_model7), \n",
    "                                             'Percision': precision_score(y_test, y_pred_model7), \n",
    "                                             'Recall': recall_score(y_test, y_pred_model7), \n",
    "                                             'F1_score': f1_score(y_test, y_pred_model7), \n",
    "                                             'Jaccard_score': jaccard_score(y_test, y_pred_model7)}, index = ['Model7: Bagging Classifier']))\n",
    "model_comp"
   ]
  },
  {
   "cell_type": "markdown",
   "id": "a2f44dd3",
   "metadata": {
    "papermill": {
     "duration": 0.05024,
     "end_time": "2021-07-10T12:38:17.198180",
     "exception": false,
     "start_time": "2021-07-10T12:38:17.147940",
     "status": "completed"
    },
    "tags": []
   },
   "source": [
    "## Model8: Random Forest"
   ]
  },
  {
   "cell_type": "code",
   "execution_count": 32,
   "id": "f0f73c42",
   "metadata": {
    "execution": {
     "iopub.execute_input": "2021-07-10T12:38:17.303052Z",
     "iopub.status.busy": "2021-07-10T12:38:17.302088Z",
     "iopub.status.idle": "2021-07-10T12:38:18.163519Z",
     "shell.execute_reply": "2021-07-10T12:38:18.162843Z",
     "shell.execute_reply.started": "2021-07-10T12:35:28.637832Z"
    },
    "papermill": {
     "duration": 0.91492,
     "end_time": "2021-07-10T12:38:18.163697",
     "exception": false,
     "start_time": "2021-07-10T12:38:17.248777",
     "status": "completed"
    },
    "tags": []
   },
   "outputs": [
    {
     "data": {
      "text/plain": [
       "array([[1369,  257],\n",
       "       [  79, 1198]])"
      ]
     },
     "execution_count": 32,
     "metadata": {},
     "output_type": "execute_result"
    }
   ],
   "source": [
    "from sklearn.ensemble import RandomForestClassifier\n",
    "model8 = RandomForestClassifier()\n",
    "model8.fit(X_train, y_train)\n",
    "y_pred_model8 = model8.predict(X_test)\n",
    "confusion_matrix_model8 = confusion_matrix(y_pred_model8, y_test)\n",
    "confusion_matrix_model8"
   ]
  },
  {
   "cell_type": "code",
   "execution_count": 33,
   "id": "12b30a5d",
   "metadata": {
    "execution": {
     "iopub.execute_input": "2021-07-10T12:38:18.273900Z",
     "iopub.status.busy": "2021-07-10T12:38:18.273236Z",
     "iopub.status.idle": "2021-07-10T12:38:18.522367Z",
     "shell.execute_reply": "2021-07-10T12:38:18.522913Z",
     "shell.execute_reply.started": "2021-07-10T12:35:43.024391Z"
    },
    "papermill": {
     "duration": 0.307204,
     "end_time": "2021-07-10T12:38:18.523093",
     "exception": false,
     "start_time": "2021-07-10T12:38:18.215889",
     "status": "completed"
    },
    "tags": []
   },
   "outputs": [
    {
     "data": {
      "text/plain": [
       "Text(0.5, 1.0, 'Roc Curve')"
      ]
     },
     "execution_count": 33,
     "metadata": {},
     "output_type": "execute_result"
    },
    {
     "data": {
      "image/png": "[encoded data removed]",
      "text/plain": [
       "<Figure size 432x288 with 1 Axes>"
      ]
     },
     "metadata": {
      "needs_background": "light"
     },
     "output_type": "display_data"
    }
   ],
   "source": [
    "plot_roc_curve(model8, X_test, y_test)\n",
    "plt.title('Roc Curve')"
   ]
  },
  {
   "cell_type": "code",
   "execution_count": 34,
   "id": "565300d3",
   "metadata": {
    "execution": {
     "iopub.execute_input": "2021-07-10T12:38:18.636768Z",
     "iopub.status.busy": "2021-07-10T12:38:18.635691Z",
     "iopub.status.idle": "2021-07-10T12:38:18.661335Z",
     "shell.execute_reply": "2021-07-10T12:38:18.660829Z",
     "shell.execute_reply.started": "2021-07-10T12:36:21.377548Z"
    },
    "papermill": {
     "duration": 0.084317,
     "end_time": "2021-07-10T12:38:18.661474",
     "exception": false,
     "start_time": "2021-07-10T12:38:18.577157",
     "status": "completed"
    },
    "tags": []
   },
   "outputs": [
    {
     "data": {
      "text/html": [
       "<div>\n",
       "<style scoped>\n",
       "    .dataframe tbody tr th:only-of-type {\n",
       "        vertical-align: middle;\n",
       "    }\n",
       "\n",
       "    .dataframe tbody tr th {\n",
       "        vertical-align: top;\n",
       "    }\n",
       "\n",
       "    .dataframe thead th {\n",
       "        text-align: right;\n",
       "    }\n",
       "</style>\n",
       "<table border=\"1\" class=\"dataframe\">\n",
       "  <thead>\n",
       "    <tr style=\"text-align: right;\">\n",
       "      <th></th>\n",
       "      <th>Accuracy</th>\n",
       "      <th>Percision</th>\n",
       "      <th>Recall</th>\n",
       "      <th>F1_score</th>\n",
       "      <th>Jaccard_score</th>\n",
       "    </tr>\n",
       "  </thead>\n",
       "  <tbody>\n",
       "    <tr>\n",
       "      <th>Model1: LDA</th>\n",
       "      <td>0.702721</td>\n",
       "      <td>0.704420</td>\n",
       "      <td>0.701031</td>\n",
       "      <td>0.702721</td>\n",
       "      <td>0.541689</td>\n",
       "    </tr>\n",
       "    <tr>\n",
       "      <th>Model2: QDA</th>\n",
       "      <td>0.744402</td>\n",
       "      <td>0.744345</td>\n",
       "      <td>0.746392</td>\n",
       "      <td>0.745367</td>\n",
       "      <td>0.594092</td>\n",
       "    </tr>\n",
       "    <tr>\n",
       "      <th>Model2: Naive Bayes</th>\n",
       "      <td>0.725801</td>\n",
       "      <td>0.735525</td>\n",
       "      <td>0.707216</td>\n",
       "      <td>0.721093</td>\n",
       "      <td>0.563836</td>\n",
       "    </tr>\n",
       "    <tr>\n",
       "      <th>Model4: Logistic Regression</th>\n",
       "      <td>0.703066</td>\n",
       "      <td>0.705760</td>\n",
       "      <td>0.698969</td>\n",
       "      <td>0.702348</td>\n",
       "      <td>0.541245</td>\n",
       "    </tr>\n",
       "    <tr>\n",
       "      <th>Model5: KNN Classifier</th>\n",
       "      <td>0.886669</td>\n",
       "      <td>0.893706</td>\n",
       "      <td>0.878351</td>\n",
       "      <td>0.885962</td>\n",
       "      <td>0.795271</td>\n",
       "    </tr>\n",
       "    <tr>\n",
       "      <th>Model6: Decision Tree Classifier</th>\n",
       "      <td>0.785394</td>\n",
       "      <td>0.890977</td>\n",
       "      <td>0.651546</td>\n",
       "      <td>0.752680</td>\n",
       "      <td>0.603437</td>\n",
       "    </tr>\n",
       "    <tr>\n",
       "      <th>Model7: Bagging Classifier</th>\n",
       "      <td>0.864623</td>\n",
       "      <td>0.930308</td>\n",
       "      <td>0.789003</td>\n",
       "      <td>0.853849</td>\n",
       "      <td>0.744971</td>\n",
       "    </tr>\n",
       "    <tr>\n",
       "      <th>Model7: Random Forest Classifier</th>\n",
       "      <td>0.884258</td>\n",
       "      <td>0.938136</td>\n",
       "      <td>0.823368</td>\n",
       "      <td>0.877013</td>\n",
       "      <td>0.780965</td>\n",
       "    </tr>\n",
       "  </tbody>\n",
       "</table>\n",
       "</div>"
      ],
      "text/plain": [
       "                                  Accuracy  Percision    Recall  F1_score  \\\n",
       "Model1: LDA                       0.702721   0.704420  0.701031  0.702721   \n",
       "Model2: QDA                       0.744402   0.744345  0.746392  0.745367   \n",
       "Model2: Naive Bayes               0.725801   0.735525  0.707216  0.721093   \n",
       "Model4: Logistic Regression       0.703066   0.705760  0.698969  0.702348   \n",
       "Model5: KNN Classifier            0.886669   0.893706  0.878351  0.885962   \n",
       "Model6: Decision Tree Classifier  0.785394   0.890977  0.651546  0.752680   \n",
       "Model7: Bagging Classifier        0.864623   0.930308  0.789003  0.853849   \n",
       "Model7: Random Forest Classifier  0.884258   0.938136  0.823368  0.877013   \n",
       "\n",
       "                                  Jaccard_score  \n",
       "Model1: LDA                            0.541689  \n",
       "Model2: QDA                            0.594092  \n",
       "Model2: Naive Bayes                    0.563836  \n",
       "Model4: Logistic Regression            0.541245  \n",
       "Model5: KNN Classifier                 0.795271  \n",
       "Model6: Decision Tree Classifier       0.603437  \n",
       "Model7: Bagging Classifier             0.744971  \n",
       "Model7: Random Forest Classifier       0.780965  "
      ]
     },
     "execution_count": 34,
     "metadata": {},
     "output_type": "execute_result"
    }
   ],
   "source": [
    "model_comp = model_comp.append(pd.DataFrame({'Accuracy': accuracy_score(y_test, y_pred_model8), \n",
    "                                             'Percision': precision_score(y_test, y_pred_model8), \n",
    "                                             'Recall': recall_score(y_test, y_pred_model8), \n",
    "                                             'F1_score': f1_score(y_test, y_pred_model8), \n",
    "                                             'Jaccard_score': jaccard_score(y_test, y_pred_model8)}, index = ['Model7: Random Forest Classifier']))\n",
    "model_comp"
   ]
  },
  {
   "cell_type": "code",
   "execution_count": null,
   "id": "9ce80d5b",
   "metadata": {
    "papermill": {
     "duration": 0.053138,
     "end_time": "2021-07-10T12:38:18.767411",
     "exception": false,
     "start_time": "2021-07-10T12:38:18.714273",
     "status": "completed"
    },
    "tags": []
   },
   "outputs": [],
   "source": []
  },
  {
   "cell_type": "code",
   "execution_count": null,
   "id": "c7558ec0",
   "metadata": {
    "papermill": {
     "duration": 0.05821,
     "end_time": "2021-07-10T12:38:18.879204",
     "exception": false,
     "start_time": "2021-07-10T12:38:18.820994",
     "status": "completed"
    },
    "tags": []
   },
   "outputs": [],
   "source": []
  },
  {
   "cell_type": "code",
   "execution_count": null,
   "id": "62799658",
   "metadata": {
    "papermill": {
     "duration": 0.053129,
     "end_time": "2021-07-10T12:38:18.986310",
     "exception": false,
     "start_time": "2021-07-10T12:38:18.933181",
     "status": "completed"
    },
    "tags": []
   },
   "outputs": [],
   "source": []
  }
 ],
 "metadata": {
  "kernelspec": {
   "display_name": "Python 3",
   "language": "python",
   "name": "python3"
  },
  "language_info": {
   "codemirror_mode": {
    "name": "ipython",
    "version": 3
   },
   "file_extension": ".py",
   "mimetype": "text/x-python",
   "name": "python",
   "nbconvert_exporter": "python",
   "pygments_lexer": "ipython3",
   "version": "3.7.10"
  },
  "papermill": {
   "default_parameters": {},
   "duration": 18.719021,
   "end_time": "2021-07-10T12:38:19.851108",
   "environment_variables": {},
   "exception": null,
   "input_path": "__notebook__.ipynb",
   "output_path": "__notebook__.ipynb",
   "parameters": {},
   "start_time": "2021-07-10T12:38:01.132087",
   "version": "2.3.3"
  }
 },
 "nbformat": 4,
 "nbformat_minor": 5
}
